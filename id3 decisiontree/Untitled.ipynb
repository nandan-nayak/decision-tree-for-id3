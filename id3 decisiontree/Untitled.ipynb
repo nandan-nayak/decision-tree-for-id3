{
 "cells": [
  {
   "cell_type": "code",
   "execution_count": 1,
   "metadata": {
    "collapsed": true
   },
   "outputs": [],
   "source": [
    "import numpy as np\n",
    "from collections import Counter\n",
    "import pandas as pd\n",
    "from pandas import DataFrame, Series\n",
    "from IPython.display import Image \n",
    "import math\n",
    "import pydotplus\n",
    "\n",
    "from sklearn import preprocessing\n",
    "from sklearn import tree\n",
    "from pprint import pprint\n",
    "%matplotlib inline\n",
    "#from io import StringIO"
   ]
  },
  {
   "cell_type": "code",
   "execution_count": 2,
   "metadata": {},
   "outputs": [
    {
     "name": "stdout",
     "output_type": "stream",
     "text": [
      "list of attributes :  ['outlook', 'temperature', 'humidity', 'wind', 'play']\n",
      "\n",
      " input data set is :\n",
      "      outlook temperature humidity    wind play\n",
      "0      sunny         hot     high    weak   no\n",
      "1      sunny         hot     high  strong   no\n",
      "2   overcast         hot     high    weak  yes\n",
      "3       rain        mild     high    weak  yes\n",
      "4       rain        cool   normal    weak  yes\n",
      "5       rain        cool   normal  strong   no\n",
      "6   overcast        cool   normal  strong  yes\n",
      "7      sunny        mild     high    weak   no\n",
      "8      sunny        cool   normal    weak  yes\n",
      "9       rain        mild   normal    weak  yes\n",
      "10     sunny        mild   normal  strong  yes\n",
      "11  overcast        mild     high  strong  yes\n",
      "12  overcast         hot   normal    weak  yes\n",
      "13      rain        mild     high  strong   no\n",
      "predecting attribute ['outlook', 'temperature', 'humidity', 'wind']\n",
      "total no of attributes  4\n",
      "play\n"
     ]
    }
   ],
   "source": [
    "e=[];values={};currentattribute=None\n",
    "remainingigattributes=[]\n",
    "stop=False\n",
    "df=pd.read_csv('playtennis.csv')\n",
    "\n",
    "attribute_names=list(df.columns)\n",
    "print(\"list of attributes : \",attribute_names)\n",
    "\n",
    "\n",
    "print(\"\\n input data set is :\\n\",df)\n",
    "\n",
    "attribute_names.remove(df.keys()[-1])\n",
    "print(\"predecting attribute\",attribute_names)\n",
    "remainingigattributes=attribute_names\n",
    "\n",
    "total_attr=len(attribute_names)\n",
    "print('total no of attributes ',total_attr)\n",
    "\n",
    "t=df.keys()[-1]\n",
    "print(t)\n",
    "\n",
    "def entropy(probs):\n",
    "    return sum([-prob*math.log(prob,2) for prob in probs])"
   ]
  },
  {
   "cell_type": "code",
   "execution_count": 3,
   "metadata": {
    "collapsed": true
   },
   "outputs": [],
   "source": [
    "def entropy_of_list(ls,value):\n",
    "    cnt=Counter(x for x in ls)\n",
    "    print('count=',cnt)\n",
    "    print('count keys=',cnt.keys())\n",
    "    global stop\n",
    "    print('count values=',len(cnt.values()))\n",
    "    total_instances=len(ls)*1.0\n",
    "    print(\"current attribute is \",currentattribute)\n",
    "    if currentattribute  is not None and currentattribute  in values.keys() and stop is not True:\n",
    "        if value not in values[currentattribute]:\n",
    "            values[currentattribute][value]={}\n",
    "            for i in range(len(cnt.values())):\n",
    "                \n",
    "                if list(cnt.keys())[i] not in values[currentattribute][value]:\n",
    "                    values[currentattribute][value][list(cnt.keys())[i]]=list(cnt.values())[i]\n",
    "            #pass\n",
    "        #pass\n",
    "       # values[currentattribute].append({list(cnt.keys())[1]:list(cnt.values())[1]})\n",
    "    print(\"no of instances of current sub class is {0}\".format(total_instances))\n",
    "    probs=[x/total_instances for x in cnt.values()]\n",
    "    print(\"classes:\",min(cnt),\" \",max(cnt))\n",
    "    print(\"probability of class {0} is : {1:.4f}\".format(min(cnt),min(probs)))\n",
    "    print(\"probability of class {0} is : {1:.4f}\".format(max(cnt),max(probs)))\n",
    "    return entropy(probs)"
   ]
  },
  {
   "cell_type": "code",
   "execution_count": 4,
   "metadata": {},
   "outputs": [
    {
     "name": "stdout",
     "output_type": "stream",
     "text": [
      "\n",
      " Input dataset for entropy calculation :\n",
      " 0      no\n",
      "1      no\n",
      "2     yes\n",
      "3     yes\n",
      "4     yes\n",
      "5      no\n",
      "6     yes\n",
      "7      no\n",
      "8     yes\n",
      "9     yes\n",
      "10    yes\n",
      "11    yes\n",
      "12    yes\n",
      "13     no\n",
      "Name: play, dtype: object\n",
      "count= Counter({'yes': 9, 'no': 5})\n",
      "count keys= dict_keys(['no', 'yes'])\n",
      "count values= 2\n",
      "current attribute is  None\n",
      "no of instances of current sub class is 14.0\n",
      "classes: no   yes\n",
      "probability of class no is : 0.3571\n",
      "probability of class yes is : 0.6429\n",
      "\n",
      " Total Entropy of play Data set :0.9403\n"
     ]
    }
   ],
   "source": [
    "print(\"\\n Input dataset for entropy calculation :\\n\",df[t])\n",
    "total_entropy=entropy_of_list(df[t],'s')\n",
    "print(\"\\n Total Entropy of {0} Data set :{1:.4f}\".format(t,total_entropy))\n",
    "#print(e)"
   ]
  },
  {
   "cell_type": "code",
   "execution_count": 5,
   "metadata": {
    "collapsed": true
   },
   "outputs": [],
   "source": [
    "def information_gain(df,split_attribute,target_attribute):\n",
    "    print(\"\\n---- Information Gain calculation of \",split_attribute,\"-------\")\n",
    "    df_split=df.groupby(split_attribute)\n",
    "    glist=[]\n",
    "    for gname,group in df_split:\n",
    "        glist.append(gname)\n",
    "    for name,group in df_split:\n",
    "        print(\" attribute value based on which data is grouped : \",name)\n",
    "        print(\"grouped attribute values \\n\",group)\n",
    "    nobs=len(df.index)\n",
    "    glist.reverse()\n",
    "    df_agg1=df_split.agg({target_attribute:lambda x:entropy_of_list(x,glist.pop())})\n",
    "    df_agg2=df_split.agg({target_attribute:lambda x:len(x)/nobs})\n",
    "    #print(df_agg_ent)\n",
    "    df_agg1.columns=['entropy']\n",
    "    df_agg2.columns=['proportions']\n",
    "    new_entropy=sum(df_agg1['entropy']*df_agg2['proportions'])\n",
    "    old_entropy=entropy_of_list(df[target_attribute],'S')\n",
    "    return old_entropy-new_entropy,df_agg1['entropy']"
   ]
  },
  {
   "cell_type": "code",
   "execution_count": 6,
   "metadata": {
    "collapsed": true
   },
   "outputs": [],
   "source": [
    "\n",
    "def id3(df,target_attribute,attribute_names,default_class=None):\n",
    "    \n",
    "    \n",
    "    cnt=Counter(x for x in df[target_attribute])\n",
    "    global currentattribute\n",
    "    global remainingigattributes\n",
    "    global values\n",
    "    global stop\n",
    "    if len(cnt)==1:\n",
    "        return next(iter(cnt))\n",
    "    elif df.empty or (not attribute_names):\n",
    "        return default_class\n",
    "    else:\n",
    "        default_class=max(cnt.keys())\n",
    "        gainz=[]\n",
    "        for attr in attribute_names:\n",
    "            currentattribute=attr\n",
    "            if attr in remainingigattributes and attr not in values.keys():\n",
    "                values[currentattribute]={}\n",
    "            ig,a=information_gain(df,attr,target_attribute)\n",
    "            #if attr not in values:\n",
    "            if attr in remainingigattributes:\n",
    "                \n",
    "                values[currentattribute]['ig']=round(ig,2)\n",
    "            gainz.append(ig)\n",
    "            e.append(a)\n",
    "            print(attr,' : ',ig)\n",
    "        index_of_max=gainz.index(max(gainz))\n",
    "        best_attr=attribute_names[index_of_max]\n",
    "        print(\"attribute with maximum gain: \",best_attr)\n",
    "        tree={best_attr:{}}\n",
    "        remainingigattributes.remove(best_attr)\n",
    "        print(values)\n",
    "        stop=True\n",
    "        remaining_attribute_names=[i for i in attribute_names if i!=best_attr]\n",
    "        for attr_val,data_subset in df.groupby(best_attr):\n",
    "            subtree=id3(data_subset,target_attribute,remaining_attribute_names,default_class)\n",
    "            tree[best_attr][attr_val]=subtree\n",
    "        return tree\n"
   ]
  },
  {
   "cell_type": "code",
   "execution_count": 7,
   "metadata": {},
   "outputs": [
    {
     "name": "stdout",
     "output_type": "stream",
     "text": [
      "\n",
      "---- Information Gain calculation of  outlook -------\n",
      " attribute value based on which data is grouped :  overcast\n",
      "grouped attribute values \n",
      "      outlook temperature humidity    wind play\n",
      "2   overcast         hot     high    weak  yes\n",
      "6   overcast        cool   normal  strong  yes\n",
      "11  overcast        mild     high  strong  yes\n",
      "12  overcast         hot   normal    weak  yes\n",
      " attribute value based on which data is grouped :  rain\n",
      "grouped attribute values \n",
      "    outlook temperature humidity    wind play\n",
      "3     rain        mild     high    weak  yes\n",
      "4     rain        cool   normal    weak  yes\n",
      "5     rain        cool   normal  strong   no\n",
      "9     rain        mild   normal    weak  yes\n",
      "13    rain        mild     high  strong   no\n",
      " attribute value based on which data is grouped :  sunny\n",
      "grouped attribute values \n",
      "    outlook temperature humidity    wind play\n",
      "0    sunny         hot     high    weak   no\n",
      "1    sunny         hot     high  strong   no\n",
      "7    sunny        mild     high    weak   no\n",
      "8    sunny        cool   normal    weak  yes\n",
      "10   sunny        mild   normal  strong  yes\n",
      "count= Counter({'yes': 4})\n",
      "count keys= dict_keys(['yes'])\n",
      "count values= 1\n",
      "current attribute is  outlook\n",
      "no of instances of current sub class is 4.0\n",
      "classes: yes   yes\n",
      "probability of class yes is : 1.0000\n",
      "probability of class yes is : 1.0000\n",
      "count= Counter({'yes': 3, 'no': 2})\n",
      "count keys= dict_keys(['yes', 'no'])\n",
      "count values= 2\n",
      "current attribute is  outlook\n",
      "no of instances of current sub class is 5.0\n",
      "classes: no   yes\n",
      "probability of class no is : 0.4000\n",
      "probability of class yes is : 0.6000\n",
      "count= Counter({'no': 3, 'yes': 2})\n",
      "count keys= dict_keys(['no', 'yes'])\n",
      "count values= 2\n",
      "current attribute is  outlook\n",
      "no of instances of current sub class is 5.0\n",
      "classes: no   yes\n",
      "probability of class no is : 0.4000\n",
      "probability of class yes is : 0.6000\n",
      "count= Counter({'yes': 9, 'no': 5})\n",
      "count keys= dict_keys(['no', 'yes'])\n",
      "count values= 2\n",
      "current attribute is  outlook\n",
      "no of instances of current sub class is 14.0\n",
      "classes: no   yes\n",
      "probability of class no is : 0.3571\n",
      "probability of class yes is : 0.6429\n",
      "outlook  :  0.2467498197744391\n",
      "\n",
      "---- Information Gain calculation of  temperature -------\n",
      " attribute value based on which data is grouped :  cool\n",
      "grouped attribute values \n",
      "     outlook temperature humidity    wind play\n",
      "4      rain        cool   normal    weak  yes\n",
      "5      rain        cool   normal  strong   no\n",
      "6  overcast        cool   normal  strong  yes\n",
      "8     sunny        cool   normal    weak  yes\n",
      " attribute value based on which data is grouped :  hot\n",
      "grouped attribute values \n",
      "      outlook temperature humidity    wind play\n",
      "0      sunny         hot     high    weak   no\n",
      "1      sunny         hot     high  strong   no\n",
      "2   overcast         hot     high    weak  yes\n",
      "12  overcast         hot   normal    weak  yes\n",
      " attribute value based on which data is grouped :  mild\n",
      "grouped attribute values \n",
      "      outlook temperature humidity    wind play\n",
      "3       rain        mild     high    weak  yes\n",
      "7      sunny        mild     high    weak   no\n",
      "9       rain        mild   normal    weak  yes\n",
      "10     sunny        mild   normal  strong  yes\n",
      "11  overcast        mild     high  strong  yes\n",
      "13      rain        mild     high  strong   no\n",
      "count= Counter({'yes': 3, 'no': 1})\n",
      "count keys= dict_keys(['yes', 'no'])\n",
      "count values= 2\n",
      "current attribute is  temperature\n",
      "no of instances of current sub class is 4.0\n",
      "classes: no   yes\n",
      "probability of class no is : 0.2500\n",
      "probability of class yes is : 0.7500\n",
      "count= Counter({'no': 2, 'yes': 2})\n",
      "count keys= dict_keys(['no', 'yes'])\n",
      "count values= 2\n",
      "current attribute is  temperature\n",
      "no of instances of current sub class is 4.0\n",
      "classes: no   yes\n",
      "probability of class no is : 0.5000\n",
      "probability of class yes is : 0.5000\n",
      "count= Counter({'yes': 4, 'no': 2})\n",
      "count keys= dict_keys(['yes', 'no'])\n",
      "count values= 2\n",
      "current attribute is  temperature\n",
      "no of instances of current sub class is 6.0\n",
      "classes: no   yes\n",
      "probability of class no is : 0.3333\n",
      "probability of class yes is : 0.6667\n",
      "count= Counter({'yes': 9, 'no': 5})\n",
      "count keys= dict_keys(['no', 'yes'])\n",
      "count values= 2\n",
      "current attribute is  temperature\n",
      "no of instances of current sub class is 14.0\n",
      "classes: no   yes\n",
      "probability of class no is : 0.3571\n",
      "probability of class yes is : 0.6429\n",
      "temperature  :  0.029222565658954647\n",
      "\n",
      "---- Information Gain calculation of  humidity -------\n",
      " attribute value based on which data is grouped :  high\n",
      "grouped attribute values \n",
      "      outlook temperature humidity    wind play\n",
      "0      sunny         hot     high    weak   no\n",
      "1      sunny         hot     high  strong   no\n",
      "2   overcast         hot     high    weak  yes\n",
      "3       rain        mild     high    weak  yes\n",
      "7      sunny        mild     high    weak   no\n",
      "11  overcast        mild     high  strong  yes\n",
      "13      rain        mild     high  strong   no\n",
      " attribute value based on which data is grouped :  normal\n",
      "grouped attribute values \n",
      "      outlook temperature humidity    wind play\n",
      "4       rain        cool   normal    weak  yes\n",
      "5       rain        cool   normal  strong   no\n",
      "6   overcast        cool   normal  strong  yes\n",
      "8      sunny        cool   normal    weak  yes\n",
      "9       rain        mild   normal    weak  yes\n",
      "10     sunny        mild   normal  strong  yes\n",
      "12  overcast         hot   normal    weak  yes\n",
      "count= Counter({'no': 4, 'yes': 3})\n",
      "count keys= dict_keys(['no', 'yes'])\n",
      "count values= 2\n",
      "current attribute is  humidity\n",
      "no of instances of current sub class is 7.0\n",
      "classes: no   yes\n",
      "probability of class no is : 0.4286\n",
      "probability of class yes is : 0.5714\n",
      "count= Counter({'yes': 6, 'no': 1})\n",
      "count keys= dict_keys(['yes', 'no'])\n",
      "count values= 2\n",
      "current attribute is  humidity\n",
      "no of instances of current sub class is 7.0\n",
      "classes: no   yes\n",
      "probability of class no is : 0.1429\n",
      "probability of class yes is : 0.8571\n",
      "count= Counter({'yes': 9, 'no': 5})\n",
      "count keys= dict_keys(['no', 'yes'])\n",
      "count values= 2\n",
      "current attribute is  humidity\n",
      "no of instances of current sub class is 14.0\n",
      "classes: no   yes\n",
      "probability of class no is : 0.3571\n",
      "probability of class yes is : 0.6429\n",
      "humidity  :  0.15183550136234136\n",
      "\n",
      "---- Information Gain calculation of  wind -------\n",
      " attribute value based on which data is grouped :  strong\n",
      "grouped attribute values \n",
      "      outlook temperature humidity    wind play\n",
      "1      sunny         hot     high  strong   no\n",
      "5       rain        cool   normal  strong   no\n",
      "6   overcast        cool   normal  strong  yes\n",
      "10     sunny        mild   normal  strong  yes\n",
      "11  overcast        mild     high  strong  yes\n",
      "13      rain        mild     high  strong   no\n",
      " attribute value based on which data is grouped :  weak\n",
      "grouped attribute values \n",
      "      outlook temperature humidity  wind play\n",
      "0      sunny         hot     high  weak   no\n",
      "2   overcast         hot     high  weak  yes\n",
      "3       rain        mild     high  weak  yes\n",
      "4       rain        cool   normal  weak  yes\n",
      "7      sunny        mild     high  weak   no\n",
      "8      sunny        cool   normal  weak  yes\n",
      "9       rain        mild   normal  weak  yes\n",
      "12  overcast         hot   normal  weak  yes\n",
      "count= Counter({'no': 3, 'yes': 3})\n",
      "count keys= dict_keys(['no', 'yes'])\n",
      "count values= 2\n",
      "current attribute is  wind\n",
      "no of instances of current sub class is 6.0\n",
      "classes: no   yes\n",
      "probability of class no is : 0.5000\n",
      "probability of class yes is : 0.5000\n",
      "count= Counter({'yes': 6, 'no': 2})\n",
      "count keys= dict_keys(['no', 'yes'])\n",
      "count values= 2\n",
      "current attribute is  wind\n",
      "no of instances of current sub class is 8.0\n",
      "classes: no   yes\n",
      "probability of class no is : 0.2500\n",
      "probability of class yes is : 0.7500\n",
      "count= Counter({'yes': 9, 'no': 5})\n",
      "count keys= dict_keys(['no', 'yes'])\n",
      "count values= 2\n",
      "current attribute is  wind\n",
      "no of instances of current sub class is 14.0\n",
      "classes: no   yes\n",
      "probability of class no is : 0.3571\n",
      "probability of class yes is : 0.6429\n",
      "wind  :  0.04812703040826927\n",
      "attribute with maximum gain:  outlook\n",
      "{'outlook': {'overcast': {'yes': 4}, 'rain': {'yes': 3, 'no': 2}, 'sunny': {'no': 3, 'yes': 2}, 'S': {'no': 5, 'yes': 9}, 'ig': 0.25}, 'temperature': {'cool': {'yes': 3, 'no': 1}, 'hot': {'no': 2, 'yes': 2}, 'mild': {'yes': 4, 'no': 2}, 'S': {'no': 5, 'yes': 9}, 'ig': 0.03}, 'humidity': {'high': {'no': 4, 'yes': 3}, 'normal': {'yes': 6, 'no': 1}, 'S': {'no': 5, 'yes': 9}, 'ig': 0.15}, 'wind': {'strong': {'no': 3, 'yes': 3}, 'weak': {'no': 2, 'yes': 6}, 'S': {'no': 5, 'yes': 9}, 'ig': 0.05}}\n",
      "\n",
      "---- Information Gain calculation of  temperature -------\n",
      " attribute value based on which data is grouped :  cool\n",
      "grouped attribute values \n",
      "   outlook temperature humidity    wind play\n",
      "4    rain        cool   normal    weak  yes\n",
      "5    rain        cool   normal  strong   no\n",
      " attribute value based on which data is grouped :  mild\n",
      "grouped attribute values \n",
      "    outlook temperature humidity    wind play\n",
      "3     rain        mild     high    weak  yes\n",
      "9     rain        mild   normal    weak  yes\n",
      "13    rain        mild     high  strong   no\n",
      "count= Counter({'yes': 1, 'no': 1})\n",
      "count keys= dict_keys(['yes', 'no'])\n",
      "count values= 2\n",
      "current attribute is  temperature\n",
      "no of instances of current sub class is 2.0\n",
      "classes: no   yes\n",
      "probability of class no is : 0.5000\n",
      "probability of class yes is : 0.5000\n",
      "count= Counter({'yes': 2, 'no': 1})\n",
      "count keys= dict_keys(['yes', 'no'])\n",
      "count values= 2\n",
      "current attribute is  temperature\n",
      "no of instances of current sub class is 3.0\n",
      "classes: no   yes\n",
      "probability of class no is : 0.3333\n",
      "probability of class yes is : 0.6667\n",
      "count= Counter({'yes': 3, 'no': 2})\n",
      "count keys= dict_keys(['yes', 'no'])\n",
      "count values= 2\n",
      "current attribute is  temperature\n",
      "no of instances of current sub class is 5.0\n",
      "classes: no   yes\n",
      "probability of class no is : 0.4000\n",
      "probability of class yes is : 0.6000\n",
      "temperature  :  0.01997309402197489\n",
      "\n",
      "---- Information Gain calculation of  humidity -------\n",
      " attribute value based on which data is grouped :  high\n",
      "grouped attribute values \n",
      "    outlook temperature humidity    wind play\n",
      "3     rain        mild     high    weak  yes\n",
      "13    rain        mild     high  strong   no\n",
      " attribute value based on which data is grouped :  normal\n",
      "grouped attribute values \n",
      "   outlook temperature humidity    wind play\n",
      "4    rain        cool   normal    weak  yes\n",
      "5    rain        cool   normal  strong   no\n",
      "9    rain        mild   normal    weak  yes\n",
      "count= Counter({'yes': 1, 'no': 1})\n",
      "count keys= dict_keys(['yes', 'no'])\n",
      "count values= 2\n",
      "current attribute is  humidity\n",
      "no of instances of current sub class is 2.0\n",
      "classes: no   yes\n",
      "probability of class no is : 0.5000\n",
      "probability of class yes is : 0.5000\n",
      "count= Counter({'yes': 2, 'no': 1})\n",
      "count keys= dict_keys(['yes', 'no'])\n",
      "count values= 2\n",
      "current attribute is  humidity\n",
      "no of instances of current sub class is 3.0\n",
      "classes: no   yes\n",
      "probability of class no is : 0.3333\n",
      "probability of class yes is : 0.6667\n",
      "count= Counter({'yes': 3, 'no': 2})\n",
      "count keys= dict_keys(['yes', 'no'])\n",
      "count values= 2\n",
      "current attribute is  humidity\n",
      "no of instances of current sub class is 5.0\n",
      "classes: no   yes\n",
      "probability of class no is : 0.4000\n",
      "probability of class yes is : 0.6000\n",
      "humidity  :  0.01997309402197489\n",
      "\n",
      "---- Information Gain calculation of  wind -------\n",
      " attribute value based on which data is grouped :  strong\n",
      "grouped attribute values \n",
      "    outlook temperature humidity    wind play\n",
      "5     rain        cool   normal  strong   no\n",
      "13    rain        mild     high  strong   no\n",
      " attribute value based on which data is grouped :  weak\n",
      "grouped attribute values \n",
      "   outlook temperature humidity  wind play\n",
      "3    rain        mild     high  weak  yes\n",
      "4    rain        cool   normal  weak  yes\n",
      "9    rain        mild   normal  weak  yes\n",
      "count= Counter({'no': 2})\n",
      "count keys= dict_keys(['no'])\n",
      "count values= 1\n",
      "current attribute is  wind\n",
      "no of instances of current sub class is 2.0\n",
      "classes: no   no\n",
      "probability of class no is : 1.0000\n",
      "probability of class no is : 1.0000\n",
      "count= Counter({'yes': 3})\n",
      "count keys= dict_keys(['yes'])\n",
      "count values= 1\n",
      "current attribute is  wind\n",
      "no of instances of current sub class is 3.0\n",
      "classes: yes   yes\n",
      "probability of class yes is : 1.0000\n",
      "probability of class yes is : 1.0000\n",
      "count= Counter({'yes': 3, 'no': 2})\n",
      "count keys= dict_keys(['yes', 'no'])\n",
      "count values= 2\n",
      "current attribute is  wind\n",
      "no of instances of current sub class is 5.0\n",
      "classes: no   yes\n",
      "probability of class no is : 0.4000\n",
      "probability of class yes is : 0.6000\n",
      "wind  :  0.9709505944546686\n",
      "attribute with maximum gain:  wind\n",
      "{'outlook': {'overcast': {'yes': 4}, 'rain': {'yes': 3, 'no': 2}, 'sunny': {'no': 3, 'yes': 2}, 'S': {'no': 5, 'yes': 9}, 'ig': 0.25}, 'temperature': {'cool': {'yes': 3, 'no': 1}, 'hot': {'no': 2, 'yes': 2}, 'mild': {'yes': 4, 'no': 2}, 'S': {'no': 5, 'yes': 9}, 'ig': 0.02}, 'humidity': {'high': {'no': 4, 'yes': 3}, 'normal': {'yes': 6, 'no': 1}, 'S': {'no': 5, 'yes': 9}, 'ig': 0.02}, 'wind': {'strong': {'no': 3, 'yes': 3}, 'weak': {'no': 2, 'yes': 6}, 'S': {'no': 5, 'yes': 9}, 'ig': 0.97}}\n",
      "\n",
      "---- Information Gain calculation of  temperature -------\n",
      " attribute value based on which data is grouped :  cool\n",
      "grouped attribute values \n",
      "   outlook temperature humidity  wind play\n",
      "8   sunny        cool   normal  weak  yes\n",
      " attribute value based on which data is grouped :  hot\n",
      "grouped attribute values \n",
      "   outlook temperature humidity    wind play\n",
      "0   sunny         hot     high    weak   no\n",
      "1   sunny         hot     high  strong   no\n",
      " attribute value based on which data is grouped :  mild\n",
      "grouped attribute values \n",
      "    outlook temperature humidity    wind play\n",
      "7    sunny        mild     high    weak   no\n",
      "10   sunny        mild   normal  strong  yes\n",
      "count= Counter({'yes': 1})\n",
      "count keys= dict_keys(['yes'])\n",
      "count values= 1\n",
      "current attribute is  temperature\n",
      "no of instances of current sub class is 1.0\n",
      "classes: yes   yes\n",
      "probability of class yes is : 1.0000\n",
      "probability of class yes is : 1.0000\n",
      "count= Counter({'no': 2})\n",
      "count keys= dict_keys(['no'])\n",
      "count values= 1\n",
      "current attribute is  temperature\n",
      "no of instances of current sub class is 2.0\n",
      "classes: no   no\n",
      "probability of class no is : 1.0000\n",
      "probability of class no is : 1.0000\n",
      "count= Counter({'no': 1, 'yes': 1})\n",
      "count keys= dict_keys(['no', 'yes'])\n",
      "count values= 2\n",
      "current attribute is  temperature\n",
      "no of instances of current sub class is 2.0\n",
      "classes: no   yes\n",
      "probability of class no is : 0.5000\n",
      "probability of class yes is : 0.5000\n",
      "count= Counter({'no': 3, 'yes': 2})\n",
      "count keys= dict_keys(['no', 'yes'])\n",
      "count values= 2\n",
      "current attribute is  temperature\n",
      "no of instances of current sub class is 5.0\n",
      "classes: no   yes\n",
      "probability of class no is : 0.4000\n",
      "probability of class yes is : 0.6000\n",
      "temperature  :  0.5709505944546686\n",
      "\n",
      "---- Information Gain calculation of  humidity -------\n",
      " attribute value based on which data is grouped :  high\n",
      "grouped attribute values \n",
      "   outlook temperature humidity    wind play\n",
      "0   sunny         hot     high    weak   no\n",
      "1   sunny         hot     high  strong   no\n",
      "7   sunny        mild     high    weak   no\n",
      " attribute value based on which data is grouped :  normal\n",
      "grouped attribute values \n",
      "    outlook temperature humidity    wind play\n",
      "8    sunny        cool   normal    weak  yes\n",
      "10   sunny        mild   normal  strong  yes\n",
      "count= Counter({'no': 3})\n",
      "count keys= dict_keys(['no'])\n",
      "count values= 1\n",
      "current attribute is  humidity\n",
      "no of instances of current sub class is 3.0\n",
      "classes: no   no\n",
      "probability of class no is : 1.0000\n",
      "probability of class no is : 1.0000\n",
      "count= Counter({'yes': 2})\n",
      "count keys= dict_keys(['yes'])\n",
      "count values= 1\n",
      "current attribute is  humidity\n",
      "no of instances of current sub class is 2.0\n",
      "classes: yes   yes\n",
      "probability of class yes is : 1.0000\n",
      "probability of class yes is : 1.0000\n",
      "count= Counter({'no': 3, 'yes': 2})\n",
      "count keys= dict_keys(['no', 'yes'])\n",
      "count values= 2\n",
      "current attribute is  humidity\n",
      "no of instances of current sub class is 5.0\n",
      "classes: no   yes\n",
      "probability of class no is : 0.4000\n",
      "probability of class yes is : 0.6000\n",
      "humidity  :  0.9709505944546686\n",
      "\n",
      "---- Information Gain calculation of  wind -------\n",
      " attribute value based on which data is grouped :  strong\n",
      "grouped attribute values \n",
      "    outlook temperature humidity    wind play\n",
      "1    sunny         hot     high  strong   no\n",
      "10   sunny        mild   normal  strong  yes\n",
      " attribute value based on which data is grouped :  weak\n",
      "grouped attribute values \n",
      "   outlook temperature humidity  wind play\n",
      "0   sunny         hot     high  weak   no\n",
      "7   sunny        mild     high  weak   no\n",
      "8   sunny        cool   normal  weak  yes\n",
      "count= Counter({'no': 1, 'yes': 1})\n",
      "count keys= dict_keys(['no', 'yes'])\n",
      "count values= 2\n",
      "current attribute is  wind\n",
      "no of instances of current sub class is 2.0\n",
      "classes: no   yes\n",
      "probability of class no is : 0.5000\n",
      "probability of class yes is : 0.5000\n",
      "count= Counter({'no': 2, 'yes': 1})\n",
      "count keys= dict_keys(['no', 'yes'])\n",
      "count values= 2\n",
      "current attribute is  wind\n",
      "no of instances of current sub class is 3.0\n",
      "classes: no   yes\n",
      "probability of class no is : 0.3333\n",
      "probability of class yes is : 0.6667\n",
      "count= Counter({'no': 3, 'yes': 2})\n",
      "count keys= dict_keys(['no', 'yes'])\n",
      "count values= 2\n",
      "current attribute is  wind\n",
      "no of instances of current sub class is 5.0\n",
      "classes: no   yes\n",
      "probability of class no is : 0.4000\n",
      "probability of class yes is : 0.6000\n",
      "wind  :  0.01997309402197489\n",
      "attribute with maximum gain:  humidity\n",
      "{'outlook': {'overcast': {'yes': 4}, 'rain': {'yes': 3, 'no': 2}, 'sunny': {'no': 3, 'yes': 2}, 'S': {'no': 5, 'yes': 9}, 'ig': 0.25}, 'temperature': {'cool': {'yes': 3, 'no': 1}, 'hot': {'no': 2, 'yes': 2}, 'mild': {'yes': 4, 'no': 2}, 'S': {'no': 5, 'yes': 9}, 'ig': 0.57}, 'humidity': {'high': {'no': 4, 'yes': 3}, 'normal': {'yes': 6, 'no': 1}, 'S': {'no': 5, 'yes': 9}, 'ig': 0.97}, 'wind': {'strong': {'no': 3, 'yes': 3}, 'weak': {'no': 2, 'yes': 6}, 'S': {'no': 5, 'yes': 9}, 'ig': 0.97}}\n",
      "\n",
      " the resultant decision tree is :\n",
      "\n",
      "{'outlook': {'overcast': 'yes',\n",
      "             'rain': {'wind': {'strong': 'no', 'weak': 'yes'}},\n",
      "             'sunny': {'humidity': {'high': 'no', 'normal': 'yes'}}}}\n"
     ]
    }
   ],
   "source": [
    "attribute_names=list(df.columns)\n",
    "\n",
    "attribute_names.remove(df.keys()[-1])\n",
    "tree1=id3(df,t,attribute_names)\n",
    "print(\"\\n the resultant decision tree is :\\n\")\n",
    "pprint(tree1)"
   ]
  },
  {
   "cell_type": "code",
   "execution_count": 8,
   "metadata": {
    "collapsed": true
   },
   "outputs": [],
   "source": [
    "level=0\n",
    "parent=0"
   ]
  },
  {
   "cell_type": "code",
   "execution_count": 9,
   "metadata": {
    "collapsed": true
   },
   "outputs": [],
   "source": [
    "x=''''''"
   ]
  },
  {
   "cell_type": "code",
   "execution_count": 10,
   "metadata": {
    "collapsed": true
   },
   "outputs": [],
   "source": [
    "def generatestr(tree,node,method,parentlevel=parent):\n",
    "    #for i in range(len(tree.keys())):\n",
    "    global x\n",
    "    global level\n",
    "    global parent\n",
    "    level=level+1\n",
    "    #node=list(tree.keys())[i]\n",
    "    \n",
    "    \n",
    "    #x=x+'''%d [label=<%s>, fillcolor=\"#e5813900\"] ;'''%(parentlevel,node)\n",
    "    if isinstance(tree[node],str):\n",
    "        \n",
    "        colorcode=\"#399de571\"\n",
    "        if tree[node]=='no':\n",
    "            colorcode='#FF0000'\n",
    "        else:\n",
    "            colorcode=\"#008000\"\n",
    "        x=x+''' %d [label=<%s> fillcolor=\"%s\"] ;'''%(parentlevel,tree[node],colorcode)\n",
    "        \n",
    "    elif isinstance(tree[node],dict):\n",
    "        \n",
    "        if method==\"odd\":\n",
    "            x=x+''' %d [label=<%s<br/>'''%(parentlevel,node)\n",
    "            for i in values[node]:\n",
    "                if not isinstance(values[node][i],dict):\n",
    "                    x=x+'''%s=%s'''%('ig',values[node][i])\n",
    "                else:\n",
    "                    x=x+'''%s'''%(i)\n",
    "                    x=x+\"[\"\n",
    "                    for j in range(len(values[node][i])):\n",
    "                        x=x+'''%s,'''%(list(values[node][i].values())[j])\n",
    "                    x=x+\"]<br/>\"\n",
    "            x=x+'''>fillcolor=\"#399de571\"] ;'''\n",
    "            for i in range(len(tree[node])):\n",
    "                x=x+'''%d -> %d [labeldistance=2.5, labelangle=45, headlabel=\"%s\"] ;'''%(parentlevel,parent+1,list(tree[node])[i])\n",
    "                generatestr(tree[node],list(tree[node].keys())[i],\"even\",parent+1)\n",
    "                parent=parent+1\n",
    "        else:\n",
    "            x=x+''' %d [label=<%s> fillcolor=\"#399de5ff\"] ;'''%(parentlevel,list(tree[node].values())[0])\n",
    "            h=tree[node]\n",
    "            parent=parentlevel\n",
    "            generatestr(h,list(tree[node].keys())[0],\"odd\",parent)\n",
    "    "
   ]
  },
  {
   "cell_type": "code",
   "execution_count": 11,
   "metadata": {
    "collapsed": true
   },
   "outputs": [],
   "source": [
    "rootnode=list(tree1.keys())[0]\n",
    "\n",
    "x='''digraph Tree {\n",
    "node [shape=box, style=\"filled, rounded\", color=\"black\", fontname=helvetica] ;\n",
    "edge [fontname=helvetica];'''\n",
    "generatestr(tree1,rootnode,\"odd\",parent)\n",
    "p=\"\"\n",
    "x=x+\"}\"\n",
    "parent=0\n",
    "level=0"
   ]
  },
  {
   "cell_type": "code",
   "execution_count": 12,
   "metadata": {
    "collapsed": true
   },
   "outputs": [],
   "source": [
    "def plot():\n",
    "    graph = pydotplus.graph_from_dot_data(x)  \n",
    "    return Image(graph.create_png())"
   ]
  },
  {
   "cell_type": "code",
   "execution_count": 13,
   "metadata": {},
   "outputs": [
    {
     "data": {
      "image/png": "[encoded data removed]",
      "text/plain": [
       "<IPython.core.display.Image object>"
      ]
     },
     "execution_count": 13,
     "metadata": {},
     "output_type": "execute_result"
    }
   ],
   "source": [
    "plot()"
   ]
  },
  {
   "cell_type": "code",
   "execution_count": null,
   "metadata": {
    "collapsed": true
   },
   "outputs": [],
   "source": []
  },
  {
   "cell_type": "code",
   "execution_count": null,
   "metadata": {
    "collapsed": true
   },
   "outputs": [],
   "source": [
    "\n"
   ]
  },
  {
   "cell_type": "code",
   "execution_count": 173,
   "metadata": {
    "collapsed": true
   },
   "outputs": [],
   "source": []
  },
  {
   "cell_type": "code",
   "execution_count": 174,
   "metadata": {
    "collapsed": true
   },
   "outputs": [],
   "source": []
  },
  {
   "cell_type": "code",
   "execution_count": 175,
   "metadata": {
    "collapsed": true
   },
   "outputs": [],
   "source": []
  },
  {
   "cell_type": "code",
   "execution_count": null,
   "metadata": {
    "collapsed": true
   },
   "outputs": [],
   "source": []
  },
  {
   "cell_type": "code",
   "execution_count": 177,
   "metadata": {
    "collapsed": true
   },
   "outputs": [],
   "source": []
  },
  {
   "cell_type": "code",
   "execution_count": null,
   "metadata": {
    "collapsed": true
   },
   "outputs": [],
   "source": []
  },
  {
   "cell_type": "code",
   "execution_count": null,
   "metadata": {
    "collapsed": true
   },
   "outputs": [],
   "source": []
  },
  {
   "cell_type": "code",
   "execution_count": null,
   "metadata": {
    "collapsed": true
   },
   "outputs": [],
   "source": []
  },
  {
   "cell_type": "code",
   "execution_count": null,
   "metadata": {
    "collapsed": true
   },
   "outputs": [],
   "source": []
  },
  {
   "cell_type": "code",
   "execution_count": null,
   "metadata": {
    "collapsed": true
   },
   "outputs": [],
   "source": []
  },
  {
   "cell_type": "code",
   "execution_count": 158,
   "metadata": {
    "collapsed": true
   },
   "outputs": [],
   "source": []
  },
  {
   "cell_type": "code",
   "execution_count": 159,
   "metadata": {
    "collapsed": true
   },
   "outputs": [],
   "source": []
  },
  {
   "cell_type": "code",
   "execution_count": 163,
   "metadata": {
    "collapsed": true
   },
   "outputs": [],
   "source": []
  },
  {
   "cell_type": "code",
   "execution_count": null,
   "metadata": {
    "collapsed": true
   },
   "outputs": [],
   "source": []
  },
  {
   "cell_type": "code",
   "execution_count": null,
   "metadata": {
    "collapsed": true
   },
   "outputs": [],
   "source": []
  },
  {
   "cell_type": "code",
   "execution_count": null,
   "metadata": {
    "collapsed": true
   },
   "outputs": [],
   "source": []
  },
  {
   "cell_type": "code",
   "execution_count": null,
   "metadata": {
    "collapsed": true
   },
   "outputs": [],
   "source": []
  },
  {
   "cell_type": "code",
   "execution_count": null,
   "metadata": {
    "collapsed": true
   },
   "outputs": [],
   "source": []
  },
  {
   "cell_type": "code",
   "execution_count": null,
   "metadata": {
    "collapsed": true
   },
   "outputs": [],
   "source": []
  },
  {
   "cell_type": "code",
   "execution_count": null,
   "metadata": {
    "collapsed": true
   },
   "outputs": [],
   "source": []
  },
  {
   "cell_type": "code",
   "execution_count": null,
   "metadata": {
    "collapsed": true
   },
   "outputs": [],
   "source": []
  },
  {
   "cell_type": "code",
   "execution_count": null,
   "metadata": {
    "collapsed": true
   },
   "outputs": [],
   "source": []
  },
  {
   "cell_type": "code",
   "execution_count": null,
   "metadata": {
    "collapsed": true
   },
   "outputs": [],
   "source": []
  },
  {
   "cell_type": "code",
   "execution_count": null,
   "metadata": {
    "collapsed": true
   },
   "outputs": [],
   "source": []
  },
  {
   "cell_type": "code",
   "execution_count": null,
   "metadata": {
    "collapsed": true
   },
   "outputs": [],
   "source": []
  },
  {
   "cell_type": "code",
   "execution_count": null,
   "metadata": {
    "collapsed": true
   },
   "outputs": [],
   "source": []
  },
  {
   "cell_type": "code",
   "execution_count": null,
   "metadata": {
    "collapsed": true
   },
   "outputs": [],
   "source": []
  },
  {
   "cell_type": "code",
   "execution_count": null,
   "metadata": {
    "collapsed": true
   },
   "outputs": [],
   "source": []
  },
  {
   "cell_type": "code",
   "execution_count": null,
   "metadata": {
    "collapsed": true
   },
   "outputs": [],
   "source": []
  },
  {
   "cell_type": "code",
   "execution_count": null,
   "metadata": {
    "collapsed": true
   },
   "outputs": [],
   "source": []
  },
  {
   "cell_type": "code",
   "execution_count": null,
   "metadata": {
    "collapsed": true
   },
   "outputs": [],
   "source": []
  },
  {
   "cell_type": "code",
   "execution_count": null,
   "metadata": {
    "collapsed": true
   },
   "outputs": [],
   "source": []
  },
  {
   "cell_type": "code",
   "execution_count": null,
   "metadata": {
    "collapsed": true
   },
   "outputs": [],
   "source": []
  },
  {
   "cell_type": "code",
   "execution_count": null,
   "metadata": {
    "collapsed": true
   },
   "outputs": [],
   "source": []
  },
  {
   "cell_type": "code",
   "execution_count": null,
   "metadata": {
    "collapsed": true
   },
   "outputs": [],
   "source": []
  },
  {
   "cell_type": "code",
   "execution_count": null,
   "metadata": {
    "collapsed": true
   },
   "outputs": [],
   "source": [
    "\n"
   ]
  },
  {
   "cell_type": "code",
   "execution_count": null,
   "metadata": {
    "collapsed": true
   },
   "outputs": [],
   "source": []
  }
 ],
 "metadata": {
  "kernelspec": {
   "display_name": "Python 3",
   "language": "python",
   "name": "python3"
  },
  "language_info": {
   "codemirror_mode": {
    "name": "ipython",
    "version": 3
   },
   "file_extension": ".py",
   "mimetype": "text/x-python",
   "name": "python",
   "nbconvert_exporter": "python",
   "pygments_lexer": "ipython3",
   "version": "3.6.2"
  }
 },
 "nbformat": 4,
 "nbformat_minor": 2
}
